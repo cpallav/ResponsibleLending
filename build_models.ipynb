{
 "cells": [
  {
   "cell_type": "code",
   "execution_count": 1,
   "metadata": {
    "collapsed": true
   },
   "outputs": [],
   "source": [
    "## Function to run multiple classifiers on same training/test sets\n",
    "\n",
    "## Import sklearn packages for model building\n",
    "from sklearn import metrics\n",
    "from sklearn.metrics import confusion_matrix\n",
    "from sklearn.linear_model import LogisticRegression\n",
    "from sklearn.ensemble import RandomForestClassifier, GradientBoostingClassifier\n",
    "from sklearn.svm import SVC, LinearSVC\n",
    "from sklearn.naive_bayes import GaussianNB\n",
    "\n",
    "def run_models(X_train, y_train, X_test, y_test, clfs, model_type='Balanced'):\n",
    "    '''\n",
    "    This function takes as inputs the training and test data (X_train, y_train, X_test, y_test), the sklearn \n",
    "    classifiers to use (as name:method signature dict), and a model_type label to indicate if the data is \n",
    "    class balanced. It returns a data frame containing some performance metrics for each classifier and a \n",
    "    dict of confusion matrices (name:confusion matrix) for each classifier. It also plots the ROC curve for\n",
    "    each classifier.\n",
    "    \n",
    "    The sklearn classifiers that have been imported and tested include LogisticRegression, \n",
    "    GaussianNB, RandomForestClassifier, GradientBoostingClassifier, SVC, LinearSVC.\n",
    "    \n",
    "    Example:\n",
    "    model_type = 'Non-balanced'\n",
    "    clfs = {\n",
    "            'LogisticRegression' : LogisticRegression(),\n",
    "            'SVM': LinearSVC(C=1.0) \n",
    "            }\n",
    "\n",
    "    report, conf_matrix = run_models(X_train, y_train, X_test, y_test, clfs, model_type)\n",
    "    '''\n",
    "    \n",
    "## Variable names to be descriptive\n",
    "\n",
    "    ## Columns for performance metrics table \n",
    "    cols = ['model','matthews_corrcoef', 'roc_auc_score', 'precision_score', 'recall_score','f1_score']\n",
    "    models_report = pd.DataFrame(columns = cols)\n",
    "    \n",
    "    ## Confusion Matrix initialization\n",
    "    conf_matrix = dict()\n",
    "\n",
    "    ## Fit model for each classifier type and compute performance metrics\n",
    "    for clf, clf_name in zip(clfs.values(), clfs.keys()):\n",
    "\n",
    "        print('Computing {} - {} '.format(clf_name, model_type))\n",
    "\n",
    "        clf.fit(X_train, y_train)\n",
    "\n",
    "        y_pred = clf.predict(X_test)\n",
    "\n",
    "        if hasattr(clf, \"predict_proba\"):\n",
    "            y_score = clf.predict_proba(X_test)[:,1]\n",
    "        else:  # use decision function\n",
    "            y_score = clf.decision_function(X_test)\n",
    "            y_score = (y_score - y_score.min()) / (y_score.max() - y_score.min())\n",
    "\n",
    "        tmp = pd.Series({'model_type': model_type,\n",
    "                         'model': clf_name,\n",
    "                         'roc_auc_score' : metrics.roc_auc_score(y_test, y_score),\n",
    "                         'matthews_corrcoef': metrics.matthews_corrcoef(y_test, y_pred),\n",
    "                         'precision_score': metrics.precision_score(y_test, y_pred),\n",
    "                         'recall_score': metrics.recall_score(y_test, y_pred),\n",
    "                         'f1_score': metrics.f1_score(y_test, y_pred)})\n",
    "\n",
    "        models_report = models_report.append(tmp, ignore_index = True)\n",
    "        conf_matrix[clf_name] = confusion_matrix(y_test, y_pred)\n",
    "        fpr, tpr, thresholds = metrics.roc_curve(y_test, y_score, drop_intermediate = False, pos_label = 1)\n",
    "\n",
    "        plt.figure(1, figsize=(7,7))\n",
    "        plt.xlabel('False positive rate')\n",
    "        plt.ylabel('True positive rate')\n",
    "        plt.title('ROC curve - {}'.format(model_type))\n",
    "        plt.plot(fpr, tpr, label = clf_name )\n",
    "        plt.legend(loc=\"lower right\", prop={'size':11})\n",
    "\n",
    "\n",
    "    plt.plot([0,1],[0,1], color = 'black')\n",
    "\n",
    "    return models_report, conf_matrix"
   ]
  },
  {
   "cell_type": "code",
   "execution_count": 2,
   "metadata": {
    "collapsed": true
   },
   "outputs": [],
   "source": [
    "import itertools\n",
    "import matplotlib.pyplot as plt\n",
    "%matplotlib inline\n",
    "\n",
    "def plot_confusion_matrix(cm, classes, normalize=False, title='Confusion matrix', cmap=plt.cm.Blues):\n",
    "    \n",
    "    '''\n",
    "    This function takes as inputs the confusion matrix (from sklearn.metrics.confusion_matrix) and a \n",
    "    list of class names, and prints and plots the confusion matrix.\n",
    "    Normalization can be applied by setting `normalize=True`.\n",
    "    title and color map can be set as well.\n",
    "    \n",
    "    Example:\n",
    "    \n",
    "    class_names = [\"Current\",\"Default\"]\n",
    "\n",
    "    # Plot non-normalized confusion matrix\n",
    "    plot_confusion_matrix(conf_matrix['LogisticRegression'], classes=class_names,\n",
    "                      title='Confusion matrix, without normalization')\n",
    "\n",
    "    # Plot normalized confusion matrix\n",
    "    plot_confusion_matrix(conf_matrix['LogisticRegression'], classes=class_names, normalize=True,\n",
    "                      title='Normalized confusion matrix')\n",
    "    '''\n",
    "    \n",
    "    if normalize:\n",
    "        cm = cm.astype('float') / cm.sum(axis=1)[:, np.newaxis]\n",
    "        print(\"Normalized confusion matrix\")\n",
    "    else:\n",
    "        print('Confusion matrix, without normalization')\n",
    "\n",
    "    print(cm)\n",
    "\n",
    "    plt.figure()\n",
    "    plt.imshow(cm, interpolation='nearest', cmap=cmap)\n",
    "    plt.title(title)\n",
    "    plt.colorbar()\n",
    "    tick_marks = np.arange(len(classes))\n",
    "    plt.xticks(tick_marks, classes, rotation=45)\n",
    "    plt.yticks(tick_marks, classes)\n",
    "\n",
    "    fmt = '.2f' if normalize else 'd'\n",
    "    thresh = cm.max() / 2.\n",
    "    for i, j in itertools.product(range(cm.shape[0]), range(cm.shape[1])):\n",
    "        plt.text(j, i, format(cm[i, j], fmt),\n",
    "                 horizontalalignment=\"center\",\n",
    "                 color=\"white\" if cm[i, j] > thresh else \"black\")\n",
    "\n",
    "    plt.tight_layout()\n",
    "    plt.ylabel('True label')\n",
    "    plt.xlabel('Predicted label')\n",
    "    \n",
    "    plt.show()\n"
   ]
  },
  {
   "cell_type": "code",
   "execution_count": 17,
   "metadata": {},
   "outputs": [
    {
     "data": {
      "text/plain": [
       "139.71827200000001"
      ]
     },
     "execution_count": 17,
     "metadata": {},
     "output_type": "execute_result"
    }
   ],
   "source": [
    "## READ DATA\n",
    "import pandas as pd\n",
    "import numpy as np\n",
    "\n",
    "periods = ['2016Q1','2016Q2','2016Q3','2016Q4','2017Q1','2017Q2','2017Q3'] #['2014','2015','2016Q1','2016Q2','2016Q3','2016Q4','2017Q1','2017Q2','2017Q3']\n",
    "cols_to_keep = ['application_type','fico_range_high','grade','loan_status','loan_amnt','purpose','annual_inc','total_bal_ex_mort','all_util','revol_util','dti','emp_length','term','int_rate','issue_d','last_pymnt_d','total_rec_prncp','total_rec_late_fee','earliest_cr_line','mths_since_last_delinq','mths_since_last_major_derog','acc_open_past_24mths','inq_last_6mths']\n",
    "data = pd.concat([pd.read_csv(\"LoanStats_{}.csv\".format(period),sep=\"|\",header=0,usecols=cols_to_keep) for period in periods], ignore_index=True, verify_integrity=True)\n",
    "\n",
    "## Memory used in MB\n",
    "data.memory_usage().sum()/1e6"
   ]
  },
  {
   "cell_type": "code",
   "execution_count": 18,
   "metadata": {},
   "outputs": [
    {
     "name": "stderr",
     "output_type": "stream",
     "text": [
      "/home/pallav/anaconda3/lib/python3.6/site-packages/ipykernel_launcher.py:9: FutureWarning: currently extract(expand=None) means expand=False (return Index/Series/DataFrame) but in a future version of pandas this will be changed to expand=True (return DataFrame)\n",
      "  if __name__ == '__main__':\n"
     ]
    },
    {
     "data": {
      "text/plain": [
       "loan_delinq\n",
       "0    686752\n",
       "1     38583\n",
       "dtype: int64"
      ]
     },
     "execution_count": 18,
     "metadata": {},
     "output_type": "execute_result"
    }
   ],
   "source": [
    "## PREPARE DATA FOR ANALYSIS\n",
    "## Keep only Individual Application types -- joint applications have different columns\n",
    "data = data[data.application_type=='Individual']\n",
    "\n",
    "## Convert loan_amnt to float for normalizations\n",
    "data['loan_amnt'] = data['loan_amnt'].astype('float')\n",
    "\n",
    "## Convert emp_length to numeric from string\n",
    "data['emp_length'] = data['emp_length'].str.extract('(\\d+)').astype(float)\n",
    "data['emp_length'].fillna(value=0.0,inplace=True)\n",
    "\n",
    "## Convert term to integer\n",
    "data['term'] = data['term'].str.split(' ').str[1]\n",
    "\n",
    "## Convert int_rate to a float\n",
    "data['int_rate'] = data['int_rate'].str.split('%').str[0]\n",
    "data['int_rate'] = data.int_rate.astype(float)/100.0\n",
    "\n",
    "## Compute dti_rate (estimate) and set red flag if it is not as high as interest rate on current loan\n",
    "data['dti_rf']=np.where(0.01*data['dti']*data['annual_inc']/data['total_bal_ex_mort']<data['int_rate']+0.16,1,0)\n",
    "\n",
    "## Compute length of credit history at loan issue\n",
    "data['credit_hist_length'] = (pd.to_datetime(data['issue_d'],format=\"%b-%Y\") - pd.to_datetime(data['earliest_cr_line'],format=\"%b-%Y\")).dt.days/365\n",
    "\n",
    "## Compute period before loan became delinquent\n",
    "data['period_non_delinq'] = (pd.to_datetime(data['last_pymnt_d'],format=\"%b-%Y\") - pd.to_datetime(data['issue_d'],format=\"%b-%Y\")).dt.days/365\n",
    "\n",
    "## Normalize total principal received\n",
    "data['frac_rec_prncp'] = data['total_rec_prncp']/data['loan_amnt']\n",
    "\n",
    "## Categorize if borrower was ever late in loan payments\n",
    "data['never_late'] = np.where(data['total_rec_late_fee']>0,0,1)\n",
    "\n",
    "## Categorize if borrower was ever delinquent in last 2yrs, or had a major derogatory in credit report\n",
    "data['never_delinq'] = np.where(pd.notna(data['mths_since_last_delinq']) & data['mths_since_last_delinq']>0,0,1)\n",
    "data['never_derog'] = np.where(pd.notna(data['mths_since_last_major_derog']) & data['mths_since_last_major_derog']>0,0,1)\n",
    "\n",
    "## Delete columns not needed any more\n",
    "delete_cols = ['annual_inc','int_rate','total_bal_ex_mort','application_type','earliest_cr_line','last_pymnt_d','mths_since_last_delinq','mths_since_last_major_derog','total_rec_late_fee','total_rec_prncp']\n",
    "data.drop(delete_cols , axis=1, inplace=True)\n",
    "\n",
    "## Set up features list for later model building\n",
    "features = ['never_late','frac_rec_prncp','fico_range_high','acc_open_past_24mths','never_delinq','never_derog','inq_last_6mths','credit_hist_length','emp_length','dti','dti_rf']\n",
    "\n",
    "## Categorize based on loan purpose\n",
    "loan_purpose_list = ['car','credit_card','debt_consolidation','home_improvement','major_purchase','medical','moving','small_business','vacation']\n",
    "for purpose in loan_purpose_list:\n",
    "    colname = purpose+'_loan'\n",
    "    data[colname] = np.where(data['purpose']==purpose,1,0)\n",
    "    features.append(colname)\n",
    "    \n",
    "loan_purpose_list.append('other')\n",
    "data['other_loan'] = np.where(data['purpose'].isin(loan_purpose_list),0,1)\n",
    "features.append('other_loan')\n",
    "\n",
    "## Delete columns not needed any more\n",
    "delete_cols = ['issue_d','purpose']\n",
    "data.drop(delete_cols , axis=1, inplace=True)\n",
    "\n",
    "## Create new loan delinquent column based on loan_status\n",
    "data['loan_delinq']=np.where(data['loan_status'].isin([\"Current\",\"Fully Paid\",\"In Grace Period\"]),0,np.where(data['period_non_delinq']>1.05,0,1))\n",
    "\n",
    "## Group by loan delinquency and get sizes\n",
    "data.groupby(\"loan_delinq\").size()"
   ]
  },
  {
   "cell_type": "code",
   "execution_count": 19,
   "metadata": {},
   "outputs": [
    {
     "name": "stdout",
     "output_type": "stream",
     "text": [
      "725334\n"
     ]
    },
    {
     "name": "stderr",
     "output_type": "stream",
     "text": [
      "/home/pallav/anaconda3/lib/python3.6/site-packages/ipykernel_launcher.py:6: SettingWithCopyWarning: \n",
      "A value is trying to be set on a copy of a slice from a DataFrame\n",
      "\n",
      "See the caveats in the documentation: http://pandas.pydata.org/pandas-docs/stable/indexing.html#indexing-view-versus-copy\n",
      "  \n"
     ]
    }
   ],
   "source": [
    "## Prepare data for models\n",
    "features.insert(0,'loan_delinq')\n",
    "X = data[features]\n",
    "\n",
    "# Drop any residual missing value (only 1)\n",
    "X.dropna(axis=0, how = 'any', inplace = True)\n",
    "y = X['loan_delinq']\n",
    "X=X[features[1:]]\n",
    "print(len(X))"
   ]
  },
  {
   "cell_type": "code",
   "execution_count": 21,
   "metadata": {},
   "outputs": [
    {
     "data": {
      "text/plain": [
       "725334"
      ]
     },
     "execution_count": 21,
     "metadata": {},
     "output_type": "execute_result"
    }
   ],
   "source": [
    "## Scale data\n",
    "from sklearn import preprocessing\n",
    "\n",
    "X_scaled = preprocessing.scale(X)\n",
    "len(X)"
   ]
  },
  {
   "cell_type": "code",
   "execution_count": 22,
   "metadata": {},
   "outputs": [
    {
     "name": "stdout",
     "output_type": "stream",
     "text": [
      "544000\n",
      "544000\n",
      "28869\n",
      "181334\n",
      "181334\n"
     ]
    }
   ],
   "source": [
    "## Split data into train/test sets\n",
    "from sklearn.model_selection import train_test_split #, cross_val_score\n",
    "\n",
    "X_train, X_test, y_train, y_test = train_test_split(X_scaled, y.values, test_size=0.25, random_state=0)\n",
    "\n",
    "print(len(X_train))\n",
    "print(len(y_train))\n",
    "print(sum(y_train))\n",
    "\n",
    "print(len(X_test))\n",
    "print(len(y_test))"
   ]
  },
  {
   "cell_type": "code",
   "execution_count": 23,
   "metadata": {},
   "outputs": [
    {
     "name": "stdout",
     "output_type": "stream",
     "text": [
      "1030262\n",
      "515131\n"
     ]
    }
   ],
   "source": [
    "## Oversample the training data using SMOTE package if model_type is `Balanced`\n",
    "from imblearn.over_sampling import SMOTE\n",
    "\n",
    "#model_type = 'Non-balanced'\n",
    "model_type = 'Balanced'\n",
    "\n",
    "if model_type == 'Balanced':\n",
    "    X_train, y_train = SMOTE().fit_sample(X_train, y_train)\n",
    "\n",
    "print(len(y_train))\n",
    "print(sum(y_train))"
   ]
  },
  {
   "cell_type": "code",
   "execution_count": 24,
   "metadata": {},
   "outputs": [
    {
     "name": "stdout",
     "output_type": "stream",
     "text": [
      "Computing GradientBoosting - Balanced \n",
      "Computing LogisticRegression - Balanced \n",
      "Computing RandomForest - Balanced \n",
      "Computing NaiveBayes - Balanced \n",
      "Computing SVM - Balanced \n"
     ]
    },
    {
     "data": {
      "image/png": "[encoded data removed]",
      "text/plain": [
       "<matplotlib.figure.Figure at 0x7f4cc7a95710>"
      ]
     },
     "metadata": {},
     "output_type": "display_data"
    }
   ],
   "source": [
    "## Set up classifiers and run models\n",
    "clfs = {\n",
    "        'GradientBoosting': GradientBoostingClassifier(max_depth=6, n_estimators=100, max_features = 0.3),\n",
    "        'LogisticRegression' : LogisticRegression(),\n",
    "        'RandomForest': RandomForestClassifier(n_estimators=100),\n",
    "        'NaiveBayes': GaussianNB(),\n",
    "        'SVM': LinearSVC(C=1.0),\n",
    "        }\n",
    "\n",
    "models_report, conf_matrix = run_models(X_train, y_train, X_test, y_test, clfs, model_type)"
   ]
  },
  {
   "cell_type": "code",
   "execution_count": 25,
   "metadata": {},
   "outputs": [
    {
     "data": {
      "text/html": [
       "<div>\n",
       "<style scoped>\n",
       "    .dataframe tbody tr th:only-of-type {\n",
       "        vertical-align: middle;\n",
       "    }\n",
       "\n",
       "    .dataframe tbody tr th {\n",
       "        vertical-align: top;\n",
       "    }\n",
       "\n",
       "    .dataframe thead th {\n",
       "        text-align: right;\n",
       "    }\n",
       "</style>\n",
       "<table border=\"1\" class=\"dataframe\">\n",
       "  <thead>\n",
       "    <tr style=\"text-align: right;\">\n",
       "      <th></th>\n",
       "      <th>model</th>\n",
       "      <th>matthews_corrcoef</th>\n",
       "      <th>roc_auc_score</th>\n",
       "      <th>precision_score</th>\n",
       "      <th>recall_score</th>\n",
       "      <th>f1_score</th>\n",
       "      <th>model_type</th>\n",
       "    </tr>\n",
       "  </thead>\n",
       "  <tbody>\n",
       "    <tr>\n",
       "      <th>0</th>\n",
       "      <td>GradientBoosting</td>\n",
       "      <td>0.273222</td>\n",
       "      <td>0.851946</td>\n",
       "      <td>0.251344</td>\n",
       "      <td>0.413939</td>\n",
       "      <td>0.312772</td>\n",
       "      <td>Balanced</td>\n",
       "    </tr>\n",
       "    <tr>\n",
       "      <th>1</th>\n",
       "      <td>LogisticRegression</td>\n",
       "      <td>0.243634</td>\n",
       "      <td>0.844211</td>\n",
       "      <td>0.132418</td>\n",
       "      <td>0.806259</td>\n",
       "      <td>0.227476</td>\n",
       "      <td>Balanced</td>\n",
       "    </tr>\n",
       "    <tr>\n",
       "      <th>2</th>\n",
       "      <td>RandomForest</td>\n",
       "      <td>0.256104</td>\n",
       "      <td>0.848632</td>\n",
       "      <td>0.341736</td>\n",
       "      <td>0.245625</td>\n",
       "      <td>0.285817</td>\n",
       "      <td>Balanced</td>\n",
       "    </tr>\n",
       "    <tr>\n",
       "      <th>3</th>\n",
       "      <td>NaiveBayes</td>\n",
       "      <td>0.219421</td>\n",
       "      <td>0.806780</td>\n",
       "      <td>0.132331</td>\n",
       "      <td>0.697550</td>\n",
       "      <td>0.222459</td>\n",
       "      <td>Balanced</td>\n",
       "    </tr>\n",
       "    <tr>\n",
       "      <th>4</th>\n",
       "      <td>SVM</td>\n",
       "      <td>0.242914</td>\n",
       "      <td>0.844201</td>\n",
       "      <td>0.129985</td>\n",
       "      <td>0.822009</td>\n",
       "      <td>0.224474</td>\n",
       "      <td>Balanced</td>\n",
       "    </tr>\n",
       "  </tbody>\n",
       "</table>\n",
       "</div>"
      ],
      "text/plain": [
       "                model  matthews_corrcoef  roc_auc_score  precision_score  \\\n",
       "0    GradientBoosting           0.273222       0.851946         0.251344   \n",
       "1  LogisticRegression           0.243634       0.844211         0.132418   \n",
       "2        RandomForest           0.256104       0.848632         0.341736   \n",
       "3          NaiveBayes           0.219421       0.806780         0.132331   \n",
       "4                 SVM           0.242914       0.844201         0.129985   \n",
       "\n",
       "   recall_score  f1_score model_type  \n",
       "0      0.413939  0.312772   Balanced  \n",
       "1      0.806259  0.227476   Balanced  \n",
       "2      0.245625  0.285817   Balanced  \n",
       "3      0.697550  0.222459   Balanced  \n",
       "4      0.822009  0.224474   Balanced  "
      ]
     },
     "execution_count": 25,
     "metadata": {},
     "output_type": "execute_result"
    }
   ],
   "source": [
    "models_report"
   ]
  },
  {
   "cell_type": "code",
   "execution_count": 26,
   "metadata": {},
   "outputs": [
    {
     "name": "stdout",
     "output_type": "stream",
     "text": [
      "[[159643  11977]\n",
      " [  5693   4021]]\n",
      "[[120306  51314]\n",
      " [  1882   7832]]\n",
      "[[167024   4596]\n",
      " [  7328   2386]]\n",
      "[[127191  44429]\n",
      " [  2938   6776]]\n",
      "[[118175  53445]\n",
      " [  1729   7985]]\n"
     ]
    }
   ],
   "source": [
    "print(conf_matrix['GradientBoosting'])\n",
    "print(conf_matrix['LogisticRegression'])\n",
    "print(conf_matrix['RandomForest'])\n",
    "print(conf_matrix['NaiveBayes'])\n",
    "print(conf_matrix['SVM'])"
   ]
  },
  {
   "cell_type": "code",
   "execution_count": 27,
   "metadata": {},
   "outputs": [
    {
     "name": "stdout",
     "output_type": "stream",
     "text": [
      "Confusion matrix, without normalization\n",
      "[[120306  51314]\n",
      " [  1882   7832]]\n"
     ]
    },
    {
     "data": {
      "image/png": "[encoded data removed]",
      "text/plain": [
       "<matplotlib.figure.Figure at 0x7f4cc7b1cfd0>"
      ]
     },
     "metadata": {},
     "output_type": "display_data"
    },
    {
     "name": "stdout",
     "output_type": "stream",
     "text": [
      "Normalized confusion matrix\n",
      "[[ 0.70100221  0.29899779]\n",
      " [ 0.19374099  0.80625901]]\n"
     ]
    },
    {
     "data": {
      "image/png": "[encoded data removed]",
      "text/plain": [
       "<matplotlib.figure.Figure at 0x7f4cc7a76470>"
      ]
     },
     "metadata": {},
     "output_type": "display_data"
    }
   ],
   "source": [
    "## Plot confusion matrix\n",
    "\n",
    "class_names = [\"Current\",\"Default\"]\n",
    "\n",
    "# non-normalized confusion matrix\n",
    "plot_confusion_matrix(conf_matrix['LogisticRegression'], classes=class_names, title='Confusion matrix, without normalization')\n",
    "\n",
    "# normalized confusion matrix\n",
    "plot_confusion_matrix(conf_matrix['LogisticRegression'], classes=class_names, normalize=True,title='Normalized confusion matrix')"
   ]
  },
  {
   "cell_type": "code",
   "execution_count": 28,
   "metadata": {},
   "outputs": [
    {
     "name": "stdout",
     "output_type": "stream",
     "text": [
      "Optimization terminated successfully.\n",
      "         Current function value: 0.552510\n",
      "         Iterations 6\n",
      "                           Logit Regression Results                           \n",
      "==============================================================================\n",
      "Dep. Variable:                      y   No. Observations:              1030262\n",
      "Model:                          Logit   Df Residuals:                  1030241\n",
      "Method:                           MLE   Df Model:                           20\n",
      "Date:                Fri, 02 Feb 2018   Pseudo R-squ.:                  0.2029\n",
      "Time:                        12:46:33   Log-Likelihood:            -5.6923e+05\n",
      "converged:                       True   LL-Null:                   -7.1412e+05\n",
      "                                        LLR p-value:                     0.000\n",
      "==============================================================================\n",
      "                 coef    std err          z      P>|z|      [0.025      0.975]\n",
      "------------------------------------------------------------------------------\n",
      "x1            -0.2062      0.002    -98.509      0.000      -0.210      -0.202\n",
      "x2            -1.0803      0.003   -393.150      0.000      -1.086      -1.075\n",
      "x3            -0.2100      0.003    -77.346      0.000      -0.215      -0.205\n",
      "x4             0.1765      0.003     69.578      0.000       0.171       0.181\n",
      "x5             0.0500      0.003     17.559      0.000       0.044       0.056\n",
      "x6             0.0029      0.003      1.028      0.304      -0.003       0.008\n",
      "x7             0.1198      0.002     50.821      0.000       0.115       0.124\n",
      "x8            -0.0627      0.002    -25.922      0.000      -0.067      -0.058\n",
      "x9            -0.0771      0.002    -33.384      0.000      -0.082      -0.073\n",
      "x10            0.1299      0.002     55.145      0.000       0.125       0.135\n",
      "x11            0.0446      0.002     19.321      0.000       0.040       0.049\n",
      "x12           -0.0241      0.003     -9.298      0.000      -0.029      -0.019\n",
      "x13           -0.1038      0.004    -25.179      0.000      -0.112      -0.096\n",
      "x14           -0.0557      0.005    -12.134      0.000      -0.065      -0.047\n",
      "x15           -0.0348      0.003    -10.772      0.000      -0.041      -0.028\n",
      "x16            0.0026      0.003      0.993      0.321      -0.003       0.008\n",
      "x17            0.0094      0.002      3.881      0.000       0.005       0.014\n",
      "x18            0.0130      0.002      5.564      0.000       0.008       0.018\n",
      "x19            0.0265      0.002     11.428      0.000       0.022       0.031\n",
      "x20           -0.0169      0.002     -6.926      0.000      -0.022      -0.012\n",
      "x21            0.0149      0.002      6.346      0.000       0.010       0.020\n",
      "==============================================================================\n"
     ]
    }
   ],
   "source": [
    "## Use statsmodels Logistic Regression to get model coefs and  \n",
    "\n",
    "import statsmodels.discrete.discrete_model as sm\n",
    "from scipy import stats\n",
    "stats.chisqprob = lambda chisq, df: stats.chi2.sf(chisq, df)\n",
    "\n",
    "model = sm.Logit(y_train, X_train)\n",
    "result = model.fit()\n",
    "print(result.summary())\n"
   ]
  },
  {
   "cell_type": "code",
   "execution_count": 32,
   "metadata": {},
   "outputs": [
    {
     "data": {
      "text/plain": [
       "['loan_delinq',\n",
       " 'never_late',\n",
       " 'frac_rec_prncp',\n",
       " 'fico_range_high',\n",
       " 'acc_open_past_24mths',\n",
       " 'never_delinq',\n",
       " 'never_derog',\n",
       " 'inq_last_6mths',\n",
       " 'credit_hist_length',\n",
       " 'emp_length',\n",
       " 'dti',\n",
       " 'dti_rf',\n",
       " 'car_loan',\n",
       " 'credit_card_loan',\n",
       " 'debt_consolidation_loan',\n",
       " 'home_improvement_loan',\n",
       " 'major_purchase_loan',\n",
       " 'medical_loan',\n",
       " 'moving_loan',\n",
       " 'small_business_loan',\n",
       " 'vacation_loan',\n",
       " 'other_loan']"
      ]
     },
     "execution_count": 32,
     "metadata": {},
     "output_type": "execute_result"
    }
   ],
   "source": [
    "features"
   ]
  },
  {
   "cell_type": "code",
   "execution_count": 29,
   "metadata": {},
   "outputs": [
    {
     "name": "stdout",
     "output_type": "stream",
     "text": [
      "1030262\n",
      "1030262\n",
      "181334\n",
      "181334\n",
      "Computing LogisticRegression - Balanced \n",
      "Computing NaiveBayes - Balanced \n",
      "Computing SVM - Balanced \n"
     ]
    },
    {
     "data": {
      "image/png": "[encoded data removed]",
      "text/plain": [
       "<matplotlib.figure.Figure at 0x7f4cc6e20e80>"
      ]
     },
     "metadata": {},
     "output_type": "display_data"
    }
   ],
   "source": [
    "## 1-factor FICO score model as baseline\n",
    "Xs_train = X_train[:,2:3]\n",
    "Xs_test = X_test[:,2:3]\n",
    "model_type = 'Balanced'\n",
    "#model_type = 'Non-balanced'\n",
    "\n",
    "print(len(Xs_train))\n",
    "print(len(y_train))\n",
    "print(len(Xs_test))\n",
    "print(len(y_test))\n",
    "\n",
    "clfs = {\n",
    "        'LogisticRegression' : LogisticRegression(),\n",
    "        'NaiveBayes': GaussianNB(),\n",
    "        'SVM': LinearSVC(C=1.0),\n",
    "        }\n",
    "\n",
    "models_report_1f, conf_matrix_1f = run_models(Xs_train, y_train, Xs_test, y_test, clfs, model_type)"
   ]
  },
  {
   "cell_type": "code",
   "execution_count": 30,
   "metadata": {},
   "outputs": [
    {
     "data": {
      "text/html": [
       "<div>\n",
       "<style scoped>\n",
       "    .dataframe tbody tr th:only-of-type {\n",
       "        vertical-align: middle;\n",
       "    }\n",
       "\n",
       "    .dataframe tbody tr th {\n",
       "        vertical-align: top;\n",
       "    }\n",
       "\n",
       "    .dataframe thead th {\n",
       "        text-align: right;\n",
       "    }\n",
       "</style>\n",
       "<table border=\"1\" class=\"dataframe\">\n",
       "  <thead>\n",
       "    <tr style=\"text-align: right;\">\n",
       "      <th></th>\n",
       "      <th>model</th>\n",
       "      <th>matthews_corrcoef</th>\n",
       "      <th>roc_auc_score</th>\n",
       "      <th>precision_score</th>\n",
       "      <th>recall_score</th>\n",
       "      <th>f1_score</th>\n",
       "      <th>model_type</th>\n",
       "    </tr>\n",
       "  </thead>\n",
       "  <tbody>\n",
       "    <tr>\n",
       "      <th>0</th>\n",
       "      <td>LogisticRegression</td>\n",
       "      <td>0.061382</td>\n",
       "      <td>0.590650</td>\n",
       "      <td>0.066174</td>\n",
       "      <td>0.674387</td>\n",
       "      <td>0.120522</td>\n",
       "      <td>Balanced</td>\n",
       "    </tr>\n",
       "    <tr>\n",
       "      <th>1</th>\n",
       "      <td>NaiveBayes</td>\n",
       "      <td>0.061067</td>\n",
       "      <td>0.578819</td>\n",
       "      <td>0.062436</td>\n",
       "      <td>0.823245</td>\n",
       "      <td>0.116068</td>\n",
       "      <td>Balanced</td>\n",
       "    </tr>\n",
       "    <tr>\n",
       "      <th>2</th>\n",
       "      <td>SVM</td>\n",
       "      <td>0.061382</td>\n",
       "      <td>0.590650</td>\n",
       "      <td>0.066174</td>\n",
       "      <td>0.674387</td>\n",
       "      <td>0.120522</td>\n",
       "      <td>Balanced</td>\n",
       "    </tr>\n",
       "  </tbody>\n",
       "</table>\n",
       "</div>"
      ],
      "text/plain": [
       "                model  matthews_corrcoef  roc_auc_score  precision_score  \\\n",
       "0  LogisticRegression           0.061382       0.590650         0.066174   \n",
       "1          NaiveBayes           0.061067       0.578819         0.062436   \n",
       "2                 SVM           0.061382       0.590650         0.066174   \n",
       "\n",
       "   recall_score  f1_score model_type  \n",
       "0      0.674387  0.120522   Balanced  \n",
       "1      0.823245  0.116068   Balanced  \n",
       "2      0.674387  0.120522   Balanced  "
      ]
     },
     "execution_count": 30,
     "metadata": {},
     "output_type": "execute_result"
    }
   ],
   "source": [
    "models_report_1f"
   ]
  },
  {
   "cell_type": "code",
   "execution_count": 31,
   "metadata": {},
   "outputs": [
    {
     "name": "stdout",
     "output_type": "stream",
     "text": [
      "[[79175 92445]\n",
      " [ 3163  6551]]\n",
      "[[ 51533 120087]\n",
      " [  1717   7997]]\n",
      "[[79175 92445]\n",
      " [ 3163  6551]]\n",
      "181334\n"
     ]
    }
   ],
   "source": [
    "print(conf_matrix_1f['LogisticRegression'])\n",
    "print(conf_matrix_1f['NaiveBayes'])\n",
    "print(conf_matrix_1f['SVM'])\n",
    "print(len(y_test))\n"
   ]
  }
 ],
 "metadata": {
  "celltoolbar": "Raw Cell Format",
  "kernelspec": {
   "display_name": "Python 3",
   "language": "python",
   "name": "python3"
  },
  "language_info": {
   "codemirror_mode": {
    "name": "ipython",
    "version": 3
   },
   "file_extension": ".py",
   "mimetype": "text/x-python",
   "name": "python",
   "nbconvert_exporter": "python",
   "pygments_lexer": "ipython3",
   "version": "3.6.3"
  }
 },
 "nbformat": 4,
 "nbformat_minor": 2
}
